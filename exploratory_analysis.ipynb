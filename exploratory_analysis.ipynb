# Exploratory Data Analysis for Sales Forecasting
# This notebook provides comprehensive data exploration and visualization

import pandas as pd
import numpy as np
import matplotlib.pyplot as plt
import seaborn as sns
import sys
sys.path.append('..')

from sales_forecaster import SalesForecaster

# Initialize and generate data
forecaster = SalesForecaster()
df = forecaster.generate_realistic_sales_data(1000)

# Basic exploration
print("Dataset Info:")
print(df.info())
print("\nBasic Statistics:")
print(df.describe())

# Sales trends over time
plt.figure(figsize=(15, 10))

# Overall trend
plt.subplot(2, 2, 1)
plt.plot(df['date'], df['sales'])
plt.title('Sales Trend Over Time')
plt.xlabel('Date')
plt.ylabel('Sales')
plt.xticks(rotation=45)

# Seasonal patterns
plt.subplot(2, 2, 2)
weekly_avg = df.groupby('day_of_week')['sales'].mean()
plt.bar(['Mon', 'Tue', 'Wed', 'Thu', 'Fri', 'Sat', 'Sun'], weekly_avg)
plt.title('Average Sales by Day of Week')
plt.xlabel('Day of Week')
plt.ylabel('Average Sales')

# Monthly patterns
plt.subplot(2, 2, 3)
monthly_avg = df.groupby('month')['sales'].mean()
plt.bar(range(1, 13), monthly_avg)
plt.title('Average Sales by Month')
plt.xlabel('Month')
plt.ylabel('Average Sales')

# Distribution
plt.subplot(2, 2, 4)
plt.hist(df['sales'], bins=50, alpha=0.7)
plt.title('Sales Distribution')
plt.xlabel('Sales')
plt.ylabel('Frequency')

plt.tight_layout()
plt.show()

# Correlation analysis
numeric_cols = ['sales', 'day_of_week', 'month', 'is_weekend', 'is_holiday', 
                'rolling_avg_7', 'rolling_avg_30', 'sales_lag1', 'sales_lag7']
correlation_matrix = df[numeric_cols].corr()

plt.figure(figsize=(12, 8))
sns.heatmap(correlation_matrix, annot=True, cmap='coolwarm', center=0)
plt.title('Feature Correlation Matrix')
plt.show()

# Advanced time series analysis
from pandas.plotting import autocorrelation_plot

plt.figure(figsize=(12, 6))
autocorrelation_plot(df['sales'])
plt.title('Sales Autocorrelation')
plt.show()

# Seasonal decomposition
from statsmodels.tsa.seasonal import seasonal_decompose

# Use last 2 years for decomposition
recent_data = df.set_index('date')['sales'].last('2Y')
decomposition = seasonal_decompose(recent_data, model='additive', period=365)

decomposition.plot()
plt.suptitle('Seasonal Decomposition of Sales Time Series')
plt.tight_layout()
plt.show()