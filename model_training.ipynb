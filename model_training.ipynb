# Model Training and Evaluation Notebook
# This notebook demonstrates the complete model training pipeline

import pandas as pd
import numpy as np
import matplotlib.pyplot as plt
import seaborn as sns
import sys
sys.path.append('..')

from sales_forecaster import SalesForecaster
from advanced_analysis import AdvancedSalesAnalysis

# Initialize and prepare data
forecaster = SalesForecaster()
df = forecaster.generate_realistic_sales_data(1000)

# Explore the data
forecaster.explore_sales_data()
forecaster.visualize_sales_patterns()

# Prepare LSTM data
X_train, X_test, y_train, y_test, split_idx = forecaster.prepare_lstm_data()

print(f"Training data shape: {X_train.shape}")
print(f"Test data shape: {X_test.shape}")

# Build and train LSTM model
history = forecaster.train_lstm_model(X_train, y_train, X_test, y_test, epochs=100)

# Plot training history
forecaster.plot_training_history(history)

# Evaluate model
y_pred, y_test_original, metrics = forecaster.evaluate_model(X_test, y_test, split_idx)

# Plot predictions
forecaster.plot_predictions(y_test_original, y_pred, split_idx)

# Generate forecasts
forecast_df = forecaster.forecast_future(days=30)
forecaster.plot_forecast(forecast_df)

# Advanced analysis
advanced = AdvancedSalesAnalysis(forecaster)
advanced_results = advanced.run_complete_analysis()

# Model comparison results
print("Model Comparison Results:")
print(advanced_results['comparison'])

# Feature importance
print("\nFeature Importance (Correlation with Sales):")
print(advanced_results['feature_importance'])